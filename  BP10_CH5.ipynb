{
  "cells": [
    {
      "cell_type": "markdown",
      "metadata": {
        "id": "view-in-github",
        "colab_type": "text"
      },
      "source": [
        "<a href=\"https://colab.research.google.com/github/gksxogns79/BP10_CH5/blob/main/%20BP10_CH5.ipynb\" target=\"_parent\"><img src=\"https://colab.research.google.com/assets/colab-badge.svg\" alt=\"Open In Colab\"/></a>"
      ]
    },
    {
      "cell_type": "code",
      "source": [
        "age = 20\n",
        "if age < 20:\n",
        "  print('20살 미만')\n",
        "else:\n",
        "  print('20살 이상')"
      ],
      "metadata": {
        "id": "83onKiko-fXt",
        "outputId": "72d0b5f2-9ece-4f38-cd3f-45575d9364f0",
        "colab": {
          "base_uri": "https://localhost:8080/"
        }
      },
      "execution_count": null,
      "outputs": [
        {
          "output_type": "stream",
          "name": "stdout",
          "text": [
            "20살 이상\n"
          ]
        }
      ]
    },
    {
      "cell_type": "code",
      "source": [
        "age = 20\n",
        "if  30 >= age and age <= 50:\n",
        "  print('30살이상이고 50살이하')\n",
        "else:\n",
        " print('30살이상이고 50살이하를 제외한 나머지')"
      ],
      "metadata": {
        "id": "8hMgfeQy-lFM",
        "outputId": "e92a1c31-57f6-402d-9ad4-11add901d3fa",
        "colab": {
          "base_uri": "https://localhost:8080/"
        }
      },
      "execution_count": null,
      "outputs": [
        {
          "output_type": "stream",
          "name": "stdout",
          "text": [
            "30살이상이고 50살이하\n"
          ]
        }
      ]
    },
    {
      "cell_type": "code",
      "source": [
        "temp = int(input(\"현재 온도를 입력하시오:\"))\n",
        "if temp >= 25:\n",
        "  print('반바지를 입으세요')\n",
        "else:\n",
        "  print('긴바지를 입으세요')"
      ],
      "metadata": {
        "id": "TE8BTKj4CJme",
        "outputId": "ab12d69d-f996-4a00-b864-36597978ccc7",
        "colab": {
          "base_uri": "https://localhost:8080/"
        }
      },
      "execution_count": null,
      "outputs": [
        {
          "output_type": "stream",
          "name": "stdout",
          "text": [
            "현재 온도를 입력하시오:10\n",
            "긴바지를 입으세요\n"
          ]
        }
      ]
    },
    {
      "cell_type": "code",
      "source": [
        "score = int(input(\"성적을 입력하시오:\"))\n",
        "if score >=90:\n",
        "  print(\"A학점입니다.\")\n",
        "elif score >=80:\n",
        "  print(\"B학점입니다.\")\n",
        "elif score >=70:\n",
        "  print(\"C학점입니다.\")\n",
        "elif score >= 60:\n",
        "  print(\"D학점입니다.\")\n",
        "else:\n",
        "  print(\"F학점입니다.\")"
      ],
      "metadata": {
        "id": "P8TjtsZ-Ct3F",
        "outputId": "a1c28b1e-f942-4628-ac15-f2143616d28d",
        "colab": {
          "base_uri": "https://localhost:8080/"
        }
      },
      "execution_count": null,
      "outputs": [
        {
          "output_type": "stream",
          "name": "stdout",
          "text": [
            "성적을 입력하시오:99\n",
            "A학점입니다.\n"
          ]
        }
      ]
    },
    {
      "cell_type": "code",
      "source": [
        "import random\n",
        "x = random.randint(1,100)\n",
        "y = random.randint(1,100)\n",
        "\n",
        "num = int(input(str(x)+\"-\"+ str(y)+\"=\"))\n",
        "if(num == x - y):\n",
        "  print(\"맞았습니다.\")\n",
        "else:\n",
        "  print(\"틀렸습니다.\")"
      ],
      "metadata": {
        "id": "oz3dZOfDEL5b",
        "outputId": "81e94920-da71-4623-ba3c-e82cf62de0fe",
        "colab": {
          "base_uri": "https://localhost:8080/"
        }
      },
      "execution_count": null,
      "outputs": [
        {
          "output_type": "stream",
          "name": "stdout",
          "text": [
            "27-49=-22\n",
            "맞았습니다.\n"
          ]
        }
      ]
    },
    {
      "cell_type": "code",
      "source": [
        "n = int(input(\"정수를 입력하시오:\"))\n",
        "\n",
        "if (n % 2 ==0 and n % 3 == 0):\n",
        "  print(\"2와 3으로 나누어 떨어집니다.\")\n",
        "else:\n",
        "  print(\"2와 3으로 나누어 떨어지지 않습니다.\")"
      ],
      "metadata": {
        "id": "_9Y5C8-lFPBT",
        "outputId": "83d014ae-ef72-4dfe-d4a5-1ba5a7330aaf",
        "colab": {
          "base_uri": "https://localhost:8080/"
        }
      },
      "execution_count": null,
      "outputs": [
        {
          "output_type": "stream",
          "name": "stdout",
          "text": [
            "정수를 입력하시오:6\n",
            "2와 3으로 나누어 떨어집니다.\n"
          ]
        }
      ]
    },
    {
      "cell_type": "code",
      "source": [
        "import random\n",
        "cor = random.randint(0,99)\n",
        "num = int(input(\"복권번호를 입력하시오(0~99):\"))\n",
        "print(\"당첨번호는 %d입니다.\"% cor)\n",
        "n1 = num // 10\n",
        "n2 = num % 10\n",
        "n3 = cor // 10\n",
        "n4 = cor % 10\n",
        "if(n1 == n3 and n2 == n4):\n",
        "  print(\"상금은 100만원입니다.\")\n",
        "elif (n1 == n3 or n2 == n4):\n",
        "  print(\"상금은 50만원입니다.\")\n",
        "else:\n",
        "  print(\"상금은 없습니다\")"
      ],
      "metadata": {
        "id": "Omjo0VKbIAAu",
        "outputId": "13822ffb-7148-46c1-dc13-8c86df3a4f46",
        "colab": {
          "base_uri": "https://localhost:8080/"
        }
      },
      "execution_count": null,
      "outputs": [
        {
          "output_type": "stream",
          "name": "stdout",
          "text": [
            "복권번호를 입력하시오(0~99):56\n",
            "당첨번호는 66입니다.\n",
            "상금은 50만원입니다.\n"
          ]
        }
      ]
    },
    {
      "cell_type": "code",
      "source": [
        "import turtle\n",
        "t = turtle.Turtle()\n",
        "t.shape(\"turtle\")\n",
        "\n",
        "x1 = int(input(\"큰 원의 중심좌표 x1 :\"))\n",
        "y1 = int(input(\"큰 원의 중심좌표 y1 :\"))\n",
        "bigC = int(input(\"큰 원의 반지름 :\"))\n",
        "\n",
        "x2 = int(input(\"작은 원의 중심좌표 x2 :\"))\n",
        "y2 = int(input(\"작은 원의 중심좌표 y2 :\"))\n",
        "smallC = int(input(\"작은 원의 반지름 :\"))\n",
        "\n",
        "t.up()\n",
        "t.goto(x1,y1)\n",
        "t.down()\n",
        "t.circle(bigC)\n",
        "\n",
        "t.up()\n",
        "t.goto(x2,y2)\n",
        "t.down()\n",
        "t.circle(smallC)\n",
        "\n",
        "dist = ((x1-x2)**2 + (y1-y2)**2)**0.5\n",
        "\n",
        "if dist > bigC+smallC:\n",
        "    print(\"두번째 원이 첫번째 원의 내부에 없습니다.\")\n",
        "else:\n",
        "    print(\"두번째 원이 첫번째 원의 내부에 있습니다.\")"
      ],
      "metadata": {
        "id": "jXMIe_63dtet"
      },
      "execution_count": null,
      "outputs": []
    }
  ],
  "metadata": {
    "colab": {
      "collapsed_sections": [],
      "name": "Colaboratory에 오신 것을 환영합니다",
      "toc_visible": true,
      "provenance": [],
      "include_colab_link": true
    },
    "kernelspec": {
      "display_name": "Python 3",
      "name": "python3"
    }
  },
  "nbformat": 4,
  "nbformat_minor": 0
}